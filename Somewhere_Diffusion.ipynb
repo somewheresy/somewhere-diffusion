{
  "nbformat": 4,
  "nbformat_minor": 0,
  "metadata": {
    "colab": {
      "name": "Somewhere Diffusion.ipynb",
      "provenance": [],
      "authorship_tag": "ABX9TyPMXKIfw/QdoL/yTY7Leebi",
      "include_colab_link": true
    },
    "kernelspec": {
      "name": "python3",
      "display_name": "Python 3"
    },
    "language_info": {
      "name": "python"
    }
  },
  "cells": [
    {
      "cell_type": "markdown",
      "metadata": {
        "id": "view-in-github",
        "colab_type": "text"
      },
      "source": [
        "<a href=\"https://colab.research.google.com/github/somewheresy/somewhere-diffusion/blob/main/Somewhere_Diffusion.ipynb\" target=\"_parent\"><img src=\"https://colab.research.google.com/assets/colab-badge.svg\" alt=\"Open In Colab\"/></a>"
      ]
    },
    {
      "cell_type": "code",
      "execution_count": null,
      "metadata": {
        "id": "zmY5J4rmEb35"
      },
      "outputs": [],
      "source": [
        "#@title Somewhere Diffusion\n",
        "![visitors](https://visitor-badge.glitch.me/badge?page_id=somewhere_diffusion)"
      ]
    },
    {
      "cell_type": "code",
      "source": [
        ""
      ],
      "metadata": {
        "id": "JZQSdkEmFoYF"
      },
      "execution_count": null,
      "outputs": []
    }
  ]
}